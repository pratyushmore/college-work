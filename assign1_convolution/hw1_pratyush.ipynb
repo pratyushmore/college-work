{
 "cells": [
  {
   "cell_type": "code",
   "execution_count": 15,
   "metadata": {
    "collapsed": false
   },
   "outputs": [],
   "source": [
    "from cv2 import *\n",
    "import numpy as np\n",
    "from scipy.integrate import dblquad\n",
    "from math import pi, exp"
   ]
  },
  {
   "cell_type": "code",
   "execution_count": 16,
   "metadata": {
    "collapsed": true
   },
   "outputs": [],
   "source": [
    "#Settings - feel free to change these\n",
    "\n",
    "IMAGE_NAME = \"your_test_image.jpg\" #Please change this to the name of your test image\n",
    "GAUSSIAN_SIGMA = 3\n",
    "GAUSSIAN_KERNEL_SIDE_LENGTH = 11\n",
    "HAAR_KERNEL_SHORTER_SIDE_LENGTH = 24"
   ]
  },
  {
   "cell_type": "code",
   "execution_count": 17,
   "metadata": {
    "collapsed": true
   },
   "outputs": [],
   "source": [
    "#kernel generators and other helper functions\n",
    "\n",
    "def edge_x_kernel(x):\n",
    "    kernel_x = np.full((2*x,x), -1)\n",
    "    kernel_x[0:x,:] = 1\n",
    "    return kernel_x\n",
    "\n",
    "def edge_y_kernel(y):\n",
    "    kernel_y = np.full((y,2*y), -1)\n",
    "    kernel_y[:,0:y] = 1\n",
    "    return kernel_y\n",
    "\n",
    "def line_x_kernel(x):\n",
    "    kernel_x = np.full((2*x,x), 1)\n",
    "    kernel_x[x/2:3*x/2,:] = -1\n",
    "    return kernel_x\n",
    "\n",
    "def line_y_kernel(y):\n",
    "    kernel_y = np.full((y, 2*y), 1)\n",
    "    kernel_y[:,y/2:3*y/2] = -1\n",
    "    return kernel_y\n",
    "\n",
    "def four_rectangle_kernel(x):\n",
    "    kernel = np.full((x,x), 1)\n",
    "    kernel[x/2:x, 0:x/2] = -1\n",
    "    kernel[0:x/2, x/2:x] = -1\n",
    "    return kernel\n",
    "\n",
    "def gaussian_kernel(sigma, side_length):\n",
    "    def function(x, y):\n",
    "        return (1/(2*pi*(sigma**2)))*exp(-(x**2 + y**2)/(2*(sigma**2)))\n",
    "    xmin = -3*sigma\n",
    "    xmax = 3*sigma\n",
    "    step = float(xmax - xmin)/side_length\n",
    "    limits = np.arange(xmin, xmax, step)\n",
    "    kernel_temp = [[dblquad(function, x, x + step, lambda c: y, lambda c:y + step) for x in limits] for y in limits]\n",
    "    kernel = [map(lambda (x, y): x, seq) for seq in kernel_temp]\n",
    "    return kernel\n",
    "\n",
    "def normalise(image):\n",
    "    scale = np.amax(image)\n",
    "    scale = scale/255.\n",
    "    scaled_image = np.array(np.divide(image, scale), dtype='uint8')\n",
    "    return scaled_image\n",
    "\n",
    "def convolve(image, kernel):\n",
    "    height, width = image.shape\n",
    "    conv_img = np.zeros((height + 1 - len(kernel) , width + 1 - len(kernel[0])), dtype='int32')\n",
    "    for i in range(0, len(conv_img)):\n",
    "        for j in range(0, len(conv_img[0])):\n",
    "            conv_img[i,j] = np.sum(np.multiply(image[i:i+len(kernel), j:j+len(kernel[0])], kernel))\n",
    "    return np.absolute(conv_img)\n"
   ]
  },
  {
   "cell_type": "code",
   "execution_count": 18,
   "metadata": {
    "collapsed": true
   },
   "outputs": [],
   "source": [
    "# image processing functions\n",
    "\n",
    "def haar_edge_x():\n",
    "    haar_x = edge_x_kernel(HAAR_KERNEL_SHORTER_SIDE_LENGTH)\n",
    "    img = imread(IMAGE_NAME, 0)\n",
    "    processed_image = normalise(convolve(img,haar_x))\n",
    "    imshow('image', processed_image)\n",
    "    waitKey(0)\n",
    "    destroyAllWindows()\n",
    "    imwrite(IMAGE_NAME[:len(IMAGE_NAME) - 4] + '_haar_edge_x.png', processed_image)\n",
    "\n",
    "def haar_edge_y():\n",
    "    haar_y = edge_y_kernel(HAAR_KERNEL_SHORTER_SIDE_LENGTH)\n",
    "    img = imread(IMAGE_NAME, 0)\n",
    "    processed_image = normalise(convolve(img,haar_y))\n",
    "    imshow('image', processed_image)\n",
    "    waitKey(0)\n",
    "    destroyAllWindows()\n",
    "    imwrite(IMAGE_NAME[:len(IMAGE_NAME) - 4] + '_haar_edge_y.png', processed_image)\n",
    "\n",
    "def haar_line_x():\n",
    "    haar_x = line_x_kernel(HAAR_KERNEL_SHORTER_SIDE_LENGTH)\n",
    "    img = imread(IMAGE_NAME, 0)\n",
    "    processed_image = normalise(convolve(img, haar_x))\n",
    "    imshow('image', processed_image)\n",
    "    waitKey(0)\n",
    "    destroyAllWindows()\n",
    "    imwrite(IMAGE_NAME[:len(IMAGE_NAME) - 4] + '_haar_line_x.png', processed_image)\n",
    "\n",
    "def haar_line_y():\n",
    "    haar_y = line_y_kernel(HAAR_KERNEL_SHORTER_SIDE_LENGTH)\n",
    "    img = imread(IMAGE_NAME, 0)\n",
    "    processed_image = normalise(convolve(img, haar_y))\n",
    "    imshow('image', processed_image)\n",
    "    waitKey(0)\n",
    "    destroyAllWindows()\n",
    "    imwrite(IMAGE_NAME[:len(IMAGE_NAME) - 4] + '_haar_line_x.png', processed_image)\n",
    "\n",
    "def haar_four_rectangle():\n",
    "    haar_kernel = four_rectangle_kernel(HAAR_KERNEL_SHORTER_SIDE_LENGTH)\n",
    "    img = imread(IMAGE_NAME, 0)\n",
    "    processed_image = normalise(convolve(img, haar_kernel))\n",
    "    imshow('image', processed_image)\n",
    "    waitKey(0)\n",
    "    destroyAllWindows()\n",
    "    imwrite(IMAGE_NAME[:len(IMAGE_NAME) - 4] + '_haar_four.png', processed_image)\n",
    "\n",
    "def sobel_edge():\n",
    "    sobel_x = np.array([[-1, 0, 1], [-2, 0, 2], [-1, 0, 1]])\n",
    "    sobel_y = np.array([[1, 2, 1], [0, 0, 0], [-1, -2, -1]])\n",
    "    img = imread(IMAGE_NAME, 0)\n",
    "    gx = convolve(img, sobel_x)\n",
    "    gy = convolve(img, sobel_y)\n",
    "    processed_image = normalise(np.add(gx, gy))\n",
    "    imshow('image',processed_image)\n",
    "    waitKey(0)\n",
    "    destroyAllWindows()\n",
    "    imwrite(IMAGE_NAME[:len(IMAGE_NAME) - 4] + '_sobel.png', processed_image)\n",
    "\n",
    "def gaussian_blur():\n",
    "    kernel = gaussian_kernel(GAUSSIAN_SIGMA, GAUSSIAN_KERNEL_SIDE_LENGTH)\n",
    "    img = imread(IMAGE_NAME, 0)\n",
    "    processed_image = normalise(convolve(img, kernel))\n",
    "    imshow('image',processed_image)\n",
    "    waitKey(0)\n",
    "    destroyAllWindows()\n",
    "    imwrite(IMAGE_NAME[:len(IMAGE_NAME) - 4] + '_gaussian.png', processed_image)\n"
   ]
  },
  {
   "cell_type": "code",
   "execution_count": 19,
   "metadata": {
    "collapsed": false
   },
   "outputs": [],
   "source": [
    "#function calls\n",
    "\n",
    "#NOTE 1: There may be some warnings that are printed for this. It is \n",
    "#for a change they are going to roll out in the future. Please ignore.\n",
    "\n",
    "#NOTE 2: You will need to press a keyboard key after an image is \n",
    "#generated, for the next one to be generated.\n",
    "\n",
    "haar_four_rectangle()\n",
    "haar_line_x()\n",
    "haar_line_y()\n",
    "haar_edge_x()\n",
    "haar_edge_y()\n",
    "sobel_edge()\n",
    "gaussian_blur()"
   ]
  },
  {
   "cell_type": "code",
   "execution_count": null,
   "metadata": {
    "collapsed": true
   },
   "outputs": [],
   "source": []
  }
 ],
 "metadata": {
  "kernelspec": {
   "display_name": "Python 2",
   "language": "python",
   "name": "python2"
  },
  "language_info": {
   "codemirror_mode": {
    "name": "ipython",
    "version": 2
   },
   "file_extension": ".py",
   "mimetype": "text/x-python",
   "name": "python",
   "nbconvert_exporter": "python",
   "pygments_lexer": "ipython2",
   "version": "2.7.6"
  }
 },
 "nbformat": 4,
 "nbformat_minor": 1
}
