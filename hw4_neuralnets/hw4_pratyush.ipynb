{
 "cells": [
  {
   "cell_type": "code",
   "execution_count": 58,
   "metadata": {
    "collapsed": false
   },
   "outputs": [],
   "source": [
    "# http://neuralnetworksanddeeplearning.com/chap1.html was referenced while completing this homework.\n",
    "\n",
    "import numpy as np\n",
    "import random\n",
    "import cPickle\n",
    "import gzip\n",
    "import matplotlib.pyplot as plt"
   ]
  },
  {
   "cell_type": "code",
   "execution_count": 54,
   "metadata": {
    "collapsed": true
   },
   "outputs": [],
   "source": [
    "class Network():\n",
    "    def __init__(self, sizes):\n",
    "        self.num_layers = len(sizes)\n",
    "        self.biases = [np.random.randn(y, 1) for y in sizes[1:]]\n",
    "        self.weights = [np.random.randn(y, x) for x,y in zip(sizes[:-1], sizes[1:])]\n",
    "\n",
    "    def determine(self, inputs):\n",
    "        act = inputs\n",
    "        for w,b in zip(self.weights, self.biases):\n",
    "            z = np.dot(w,act) + b\n",
    "            act = self.sigma(z)\n",
    "        return act\n",
    "\n",
    "    def stoch_minibatch_GD(self, training_data, epochs, alpha, batch_size=None):\n",
    "        if not batch_size:\n",
    "            batch_size = len(training_data)\n",
    "        error_vals = []\n",
    "        for i in xrange(epochs):\n",
    "            random.shuffle(training_data)\n",
    "            batches = [training_data[k:k+batch_size] for k in xrange(0, len(training_data), batch_size)]\n",
    "            for batch in batches:\n",
    "                self.update_params_for_batch(batch, alpha)\n",
    "            total_error = self.calc_error(training_data)\n",
    "            print \"Epoch\", i, \", Error:\", total_error\n",
    "            error_vals.append(total_error)\n",
    "        plt.xlim(xmin=0, xmax = epochs + 1.5)\n",
    "        plt.ylim(ymin=0.0, ymax = max(error_vals) + 0.5)\n",
    "        plt.ylabel('total rms error')\n",
    "        plt.xlabel('epoch')\n",
    "        plt.scatter(range(1, epochs+1), error_vals)\n",
    "        plt.show()\n",
    "\n",
    "    def update_params_for_batch(self, batch, alpha):\n",
    "        input1, output1 = batch[0]\n",
    "        del_w, del_b = self.backprop(input1, output1)\n",
    "        for input_x, output_x in batch[1:]:\n",
    "            del_w2, del_b2 = self.backprop(input_x, output_x)\n",
    "            del_w = [w1 + w2 for w1,w2 in zip(del_w, del_w2)]\n",
    "            del_b = [b1 + b2 for b1,b2 in zip(del_b, del_b2)]\n",
    "        n = len(batch)\n",
    "        self.weights = [w1 - alpha*w2/float(n) for w1,w2 in zip(self.weights, del_w)]\n",
    "        self.biases = [b1 - alpha*b2/float(n) for b1,b2 in zip(self.biases, del_b)]\n",
    "\n",
    "    def calc_error(self, training_data):\n",
    "        total_error = 0\n",
    "        for i, o in training_data:\n",
    "            out = self.determine(i)\n",
    "            error = out - o\n",
    "            total_error += np.sqrt(np.mean(np.square(error)))\n",
    "        return total_error\n",
    "\n",
    "    def backprop(self, inputs, outputs):\n",
    "        act = inputs\n",
    "        act_vals = [act]\n",
    "        z_vals = []\n",
    "        for w,b in zip(self.weights, self.biases):\n",
    "            z = np.dot(w,act) + b\n",
    "            z_vals.append(z)\n",
    "            act = self.sigma(z)\n",
    "            act_vals.append(act)\n",
    "        del_w = range(len(self.weights))\n",
    "        del_b = range(len(self.biases))\n",
    "        d = self.backprop_1(z_vals[-1], act_vals[-1], outputs)\n",
    "        del_w[-1] = self.backprop_3(d, act_vals[-2])\n",
    "        del_b[-1] = self.backprop_4(d)\n",
    "        for offset in xrange(2, self.num_layers):\n",
    "            d = self.backprop_2(d, self.weights[-offset + 1], z_vals[-offset])\n",
    "            del_w[-offset] = self.backprop_3(d, act_vals[-offset - 1])\n",
    "            del_b[-offset] = self.backprop_4(d)\n",
    "        return del_w, del_b\n",
    "\n",
    "    def backprop_1(self, z, a, y):\n",
    "        return self.error_derivative(y, a) * self.sigma_prime(z)\n",
    "\n",
    "    def backprop_2(self, d, w, z):\n",
    "        return np.dot(w.transpose(), d) * self.sigma_prime(z)\n",
    "\n",
    "    def backprop_3(self, d, a):\n",
    "        return np.outer(d, a)\n",
    "\n",
    "    def backprop_4(self, d):\n",
    "        return d\n",
    "\n",
    "    def sigma(self, x):\n",
    "        return 1.0/(1.0+np.exp(-x))\n",
    "\n",
    "    def sigma_prime(self, x):\n",
    "        return self.sigma(x)*(1-self.sigma(x))\n",
    "\n",
    "    def error_derivative(self, y, a):\n",
    "        return a - y\n"
   ]
  },
  {
   "cell_type": "code",
   "execution_count": 40,
   "metadata": {
    "collapsed": false
   },
   "outputs": [
    {
     "data": {
      "image/png": "[encoded data removed]",
      "text/plain": [
       "<matplotlib.figure.Figure at 0x7f57d46c33d0>"
      ]
     },
     "metadata": {},
     "output_type": "display_data"
    }
   ],
   "source": [
    "# XOR training\n",
    "\n",
    "inputs = [[0,0], [0,1], [1,0], [1,1]]\n",
    "outputs = [[0], [1], [1], [0]]\n",
    "formatted_inputs = []\n",
    "formatted_outputs = []\n",
    "\n",
    "for i in inputs:\n",
    "    formatted_inputs.append(np.array([i]).T)\n",
    "for o in outputs:\n",
    "    formatted_outputs.append(np.array([o]))\n",
    "    \n",
    "neural_net_XOR = Network([2,2,1])\n",
    "neural_net_XOR.stoch_minibatch_GD(zip(formatted_inputs, formatted_outputs), 2500, 2)"
   ]
  },
  {
   "cell_type": "code",
   "execution_count": 41,
   "metadata": {
    "collapsed": false
   },
   "outputs": [
    {
     "name": "stdout",
     "output_type": "stream",
     "text": [
      "XOR Accuracy: 4 / 4\n"
     ]
    }
   ],
   "source": [
    "# XOR testing\n",
    "\n",
    "def predict_XOR(input):\n",
    "    formatted_input = np.reshape(input,(2,1))\n",
    "    prediction = neural_net_XOR.determine(formatted_input)\n",
    "    if prediction > 0.5:\n",
    "        return 1\n",
    "    else:\n",
    "        return 0\n",
    "\n",
    "num_correct = 0\n",
    "for inp, outp in zip(inputs, outputs):\n",
    "    if predict_XOR(inp) == outp[0]:\n",
    "        num_correct += 1\n",
    "print \"XOR Accuracy:\", num_correct,\"/ 4\""
   ]
  },
  {
   "cell_type": "code",
   "execution_count": 48,
   "metadata": {
    "collapsed": true
   },
   "outputs": [],
   "source": [
    "#Helpers taken from http://neuralnetworksanddeeplearning.com/chap1.html\n",
    "\n",
    "def mnist_load_data():\n",
    "    f = gzip.open('mnist_data/mnist.pkl.gz', 'rb') #Change according to your data directory\n",
    "    training_data, validation_data, test_data = cPickle.load(f)\n",
    "    f.close()\n",
    "    return (training_data, validation_data, test_data)\n",
    "\n",
    "def mnist_load_data_wrapper():\n",
    "    tr_d, va_d, te_d = mnist_load_data()\n",
    "    training_inputs = [np.reshape(x, (784, 1)) for x in tr_d[0]]\n",
    "    training_results = [mnist_vectorized_result(y) for y in tr_d[1]]\n",
    "    training_data = zip(training_inputs, training_results)\n",
    "    validation_inputs = [np.reshape(x, (784, 1)) for x in va_d[0]]\n",
    "    validation_data = zip(validation_inputs, va_d[1])\n",
    "    test_inputs = [np.reshape(x, (784, 1)) for x in te_d[0]]\n",
    "    test_data = zip(test_inputs, te_d[1])\n",
    "    return (training_data, validation_data, test_data)\n",
    "\n",
    "def mnist_vectorized_result(j):\n",
    "    e = np.zeros((10, 1))\n",
    "    e[j] = 1.0\n",
    "    return e"
   ]
  },
  {
   "cell_type": "code",
   "execution_count": 49,
   "metadata": {
    "collapsed": false
   },
   "outputs": [
    {
     "name": "stdout",
     "output_type": "stream",
     "text": [
      "Epoch 0 , Error: 4355.52839742\n",
      "Epoch 1 , Error: 2861.05192697\n",
      "Epoch 2 , Error: 2506.066956\n",
      "Epoch 3 , Error: 2319.97856022\n",
      "Epoch 4 , Error: 2016.07768854\n",
      "Epoch 5 , Error: 1975.28726337\n",
      "Epoch 6 , Error: 1886.87020112\n",
      "Epoch 7 , Error: 1754.19071675\n",
      "Epoch 8 , Error: 1736.00967555\n",
      "Epoch 9 , Error: 1630.54080331\n",
      "Epoch 10 , Error: 1568.27084643\n",
      "Epoch 11 , Error: 1654.55168052\n",
      "Epoch 12 , Error: 1465.86605895\n",
      "Epoch 13 , Error: 1425.24772231\n",
      "Epoch 14 , Error: 1597.85665118\n",
      "Epoch 15 , Error: 1403.27229132\n",
      "Epoch 16 , Error: 1396.82162186\n",
      "Epoch 17 , Error: 1303.58074744\n",
      "Epoch 18 , Error: 1347.94015954\n",
      "Epoch 19 , Error: 1270.68308867\n",
      "Epoch 20 , Error: 1209.5316295\n",
      "Epoch 21 , Error: 1405.84299286\n",
      "Epoch 22 , Error: 1289.38543959\n",
      "Epoch 23 , Error: 1210.10324787\n",
      "Epoch 24 , Error: 1199.76247907\n",
      "Epoch 25 , Error: 1137.55570536\n",
      "Epoch 26 , Error: 1125.29770645\n",
      "Epoch 27 , Error: 1201.19393842\n",
      "Epoch 28 , Error: 1206.10061743\n",
      "Epoch 29 , Error: 1153.82475752\n"
     ]
    },
    {
     "data": {
      "image/png": "[encoded data removed]",
      "text/plain": [
       "<matplotlib.figure.Figure at 0x7f57d55cb0d0>"
      ]
     },
     "metadata": {},
     "output_type": "display_data"
    }
   ],
   "source": [
    "# MNIST training\n",
    "\n",
    "mnist_training_data, validation_data, mnist_testing_data = mnist_load_data_wrapper()\n",
    "neural_net_MNIST = Network([784, 30, 10])\n",
    "neural_net_MNIST.stoch_minibatch_GD(mnist_training_data, 30, 3.0, batch_size=10)"
   ]
  },
  {
   "cell_type": "code",
   "execution_count": 51,
   "metadata": {
    "collapsed": false
   },
   "outputs": [
    {
     "name": "stdout",
     "output_type": "stream",
     "text": [
      "MNIST Accuracy: 9482 / 10000\n"
     ]
    }
   ],
   "source": [
    "# MNIST testing\n",
    "\n",
    "def predict_mnist(inputs):\n",
    "    prediction = neural_net_MNIST.determine(inputs)\n",
    "    return np.argmax(prediction)\n",
    "\n",
    "num_correct = 0\n",
    "for inputs, outp in mnist_testing_data:\n",
    "    if predict_mnist(inputs) == outp:\n",
    "        num_correct += 1\n",
    "print \"MNIST Accuracy:\", num_correct,\"/ 10000\""
   ]
  },
  {
   "cell_type": "code",
   "execution_count": 52,
   "metadata": {
    "collapsed": true
   },
   "outputs": [],
   "source": [
    "#Helper from https://www.cs.toronto.edu/~kriz/cifar.html\n",
    "#Dataset from tech report associated with https://www.cs.toronto.edu/~kriz/learning-features-2009-TR.pdf\n",
    "\n",
    "def unpickle(file):\n",
    "    import cPickle\n",
    "    fo = open(file, 'rb')\n",
    "    dict = cPickle.load(fo)\n",
    "    fo.close()\n",
    "    return dict\n",
    "\n",
    "#Self coded\n",
    "\n",
    "def format_cifar_inp(x):\n",
    "    #rgb = np.array([x[k:k+1024] for k in range(0, 3072, 1024)]).T\n",
    "    #greyscale = np.array([np.mean(rgb, axis=1)]).T\n",
    "    #return greyscale / 255.\n",
    "    return np.reshape(x/255., (3072,1))\n",
    "\n",
    "#Helpers based on above helpers\n",
    "\n",
    "def cifar_load_data_wrapper():\n",
    "    training_data = []\n",
    "    for i in range(1,6):\n",
    "        batch_data = unpickle('cifar_data/cifar-10-batches-py/data_batch_' + str(i))   #Change according to your data directory\n",
    "        training_inputs = batch_data.get('data')\n",
    "        tr_l = batch_data.get('labels')\n",
    "        training_results = [cifar_vectorized_result(y) for y in tr_l]\n",
    "        training_inputs_formatted = [format_cifar_inp(x) for x in training_inputs]\n",
    "        training_data.extend(zip(training_inputs_formatted, training_results))\n",
    "    test_batch = unpickle('cifar_data/cifar-10-batches-py/test_batch')\n",
    "    testing_inputs = test_batch.get('data')\n",
    "    tst_l = test_batch.get('labels')\n",
    "    testing_inputs_formatted = [format_cifar_inp(x) for x in testing_inputs]\n",
    "    testing_data = zip(testing_inputs_formatted, tst_l)\n",
    "    return (training_data, testing_data)\n",
    "\n",
    "def cifar_vectorized_result(j):\n",
    "    e = np.zeros((10, 1))\n",
    "    e[j] = 1.0\n",
    "    return e\n"
   ]
  },
  {
   "cell_type": "code",
   "execution_count": 55,
   "metadata": {
    "collapsed": false
   },
   "outputs": [
    {
     "name": "stdout",
     "output_type": "stream",
     "text": [
      "Epoch 0 , Error: 14797.477337\n",
      "Epoch 1 , Error: 14486.8427963\n",
      "Epoch 2 , Error: 14289.3991343\n",
      "Epoch 3 , Error: 14083.8422085\n",
      "Epoch 4 , Error: 14420.5594792\n",
      "Epoch 5 , Error: 14009.701793\n",
      "Epoch 6 , Error: 14012.9664424\n",
      "Epoch 7 , Error: 13801.2926291\n",
      "Epoch 8 , Error: 14053.4366009\n",
      "Epoch 9 , Error: 13972.7833169\n",
      "Epoch 10 , Error: 13886.3430737\n",
      "Epoch 11 , Error: 13812.3733816\n",
      "Epoch 12 , Error: 13974.6632414\n",
      "Epoch 13 , Error: 13927.6152773\n",
      "Epoch 14 , Error: 13612.1130745\n",
      "Epoch 15 , Error: 13946.426732\n",
      "Epoch 16 , Error: 13830.5979134\n",
      "Epoch 17 , Error: 13849.7635814\n",
      "Epoch 18 , Error: 13861.6120575\n",
      "Epoch 19 , Error: 13694.8045586\n",
      "Epoch 20 , Error: 13845.3207641\n",
      "Epoch 21 , Error: 13768.2289533\n",
      "Epoch 22 , Error: 13756.9185345\n",
      "Epoch 23 , Error: 13696.9747486\n",
      "Epoch 24 , Error: 13692.3156551\n",
      "Epoch 25 , Error: 13657.58676\n",
      "Epoch 26 , Error: 13679.2902454\n",
      "Epoch 27 , Error: 13582.1870639\n",
      "Epoch 28 , Error: 13484.832019\n",
      "Epoch 29 , Error: 13755.8881281\n"
     ]
    },
    {
     "data": {
      "image/png": "[encoded data removed]",
      "text/plain": [
       "<matplotlib.figure.Figure at 0x7f57d8eda990>"
      ]
     },
     "metadata": {},
     "output_type": "display_data"
    }
   ],
   "source": [
    "# CIFAR training\n",
    "\n",
    "cifar_training_data, cifar_testing_data = cifar_load_data_wrapper()\n",
    "neural_net_CIFAR = Network([3072, 30, 20, 10])\n",
    "neural_net_CIFAR.stoch_minibatch_GD(cifar_training_data, 30, 3, batch_size=10)"
   ]
  },
  {
   "cell_type": "code",
   "execution_count": 57,
   "metadata": {
    "collapsed": false
   },
   "outputs": [
    {
     "name": "stdout",
     "output_type": "stream",
     "text": [
      "CIFAR Accuracy: 3335 / 10000\n"
     ]
    }
   ],
   "source": [
    "# CIFAR Testing\n",
    "def predict_cifar(inputs):\n",
    "    prediction = neural_net_CIFAR.determine(inputs)\n",
    "    return np.argmax(prediction)\n",
    "num_correct = 0\n",
    "for inputs, outp in cifar_testing_data:\n",
    "    if predict_cifar(inputs) == outp:\n",
    "        num_correct += 1\n",
    "print \"CIFAR Accuracy:\", num_correct,\"/ 10000\""
   ]
  },
  {
   "cell_type": "code",
   "execution_count": null,
   "metadata": {
    "collapsed": true
   },
   "outputs": [],
   "source": []
  }
 ],
 "metadata": {
  "kernelspec": {
   "display_name": "Python 2",
   "language": "python",
   "name": "python2"
  },
  "language_info": {
   "codemirror_mode": {
    "name": "ipython",
    "version": 2
   },
   "file_extension": ".py",
   "mimetype": "text/x-python",
   "name": "python",
   "nbconvert_exporter": "python",
   "pygments_lexer": "ipython2",
   "version": "2.7.6"
  }
 },
 "nbformat": 4,
 "nbformat_minor": 1
}
